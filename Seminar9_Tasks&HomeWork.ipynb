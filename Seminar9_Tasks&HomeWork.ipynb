{
  "nbformat": 4,
  "nbformat_minor": 0,
  "metadata": {
    "colab": {
      "provenance": [],
      "mount_file_id": "1aQ3h33Xc9hOUn4BDtikv-u4UML9na_oX",
      "authorship_tag": "ABX9TyPyD9zVysq801Dq1JZ9BDd0",
      "include_colab_link": true
    },
    "kernelspec": {
      "name": "python3",
      "display_name": "Python 3"
    },
    "language_info": {
      "name": "python"
    }
  },
  "cells": [
    {
      "cell_type": "markdown",
      "metadata": {
        "id": "view-in-github",
        "colab_type": "text"
      },
      "source": [
        "<a href=\"https://colab.research.google.com/github/TikhonBatura/HomeWork_4547_Python/blob/main/Seminar9_Tasks%26HomeWork.ipynb\" target=\"_parent\"><img src=\"https://colab.research.google.com/assets/colab-badge.svg\" alt=\"Open In Colab\"/></a>"
      ]
    },
    {
      "cell_type": "code",
      "source": [
        "Прочесть с помощью pandas файл california_housing_test.csv, который находится в папке sample_data\n",
        "\n",
        "Посмотреть сколько в нем строк и столбцов\n",
        "\n",
        "Определить какой тип данных имеют столбцы"
      ],
      "metadata": {
        "id": "Ly8lfqhxItL4"
      },
      "execution_count": null,
      "outputs": []
    },
    {
      "cell_type": "code",
      "execution_count": 1,
      "metadata": {
        "id": "t0Odh3_6Bys7"
      },
      "outputs": [],
      "source": [
        "import pandas as pd"
      ]
    },
    {
      "cell_type": "code",
      "source": [
        "df = pd.read_csv('sample_data/california_housing_test.csv')"
      ],
      "metadata": {
        "id": "NqRpRK27B7uR"
      },
      "execution_count": 2,
      "outputs": []
    },
    {
      "cell_type": "code",
      "source": [
        "df.shape"
      ],
      "metadata": {
        "colab": {
          "base_uri": "https://localhost:8080/"
        },
        "id": "kpXkxWqNJAmy",
        "outputId": "26fb2d28-d666-4b56-c821-9abfa2afeea1"
      },
      "execution_count": 3,
      "outputs": [
        {
          "output_type": "execute_result",
          "data": {
            "text/plain": [
              "(3000, 9)"
            ]
          },
          "metadata": {},
          "execution_count": 3
        }
      ]
    },
    {
      "cell_type": "code",
      "source": [
        "df.dtypes"
      ],
      "metadata": {
        "colab": {
          "base_uri": "https://localhost:8080/"
        },
        "id": "9oRAXGP-JkCK",
        "outputId": "8e15e88c-d780-480b-c769-e4e62733d266"
      },
      "execution_count": 5,
      "outputs": [
        {
          "output_type": "execute_result",
          "data": {
            "text/plain": [
              "longitude             float64\n",
              "latitude              float64\n",
              "housing_median_age    float64\n",
              "total_rooms           float64\n",
              "total_bedrooms        float64\n",
              "population            float64\n",
              "households            float64\n",
              "median_income         float64\n",
              "median_house_value    float64\n",
              "dtype: object"
            ]
          },
          "metadata": {},
          "execution_count": 5
        }
      ]
    },
    {
      "cell_type": "markdown",
      "source": [
        "Проверить есть ли в файле пустые значения\n",
        "\n",
        "\n",
        "Показать median_house_value где median_income < 2\n",
        "\n",
        "\n",
        "Показать данные в первых 2 столбцах\n",
        "\n",
        "\n",
        "\n",
        "Выбрать данные где housing_median_age < 20 и median_house_value > 7000"
      ],
      "metadata": {
        "id": "E2WVB3OWKuJo"
      }
    },
    {
      "cell_type": "code",
      "source": [
        "df.isnull().sum()"
      ],
      "metadata": {
        "colab": {
          "base_uri": "https://localhost:8080/"
        },
        "id": "tiqLWALbK1QA",
        "outputId": "5d41afe5-a649-4b8f-f6fd-bd1faf0cba32"
      },
      "execution_count": 7,
      "outputs": [
        {
          "output_type": "execute_result",
          "data": {
            "text/plain": [
              "longitude             0\n",
              "latitude              0\n",
              "housing_median_age    0\n",
              "total_rooms           0\n",
              "total_bedrooms        0\n",
              "population            0\n",
              "households            0\n",
              "median_income         0\n",
              "median_house_value    0\n",
              "dtype: int64"
            ]
          },
          "metadata": {},
          "execution_count": 7
        }
      ]
    },
    {
      "cell_type": "code",
      "source": [
        "df[df.median_income < 2][['median_house_value', 'median_income']]"
      ],
      "metadata": {
        "id": "W5s7KwkpLayP"
      },
      "execution_count": null,
      "outputs": []
    },
    {
      "cell_type": "code",
      "source": [
        "# df.columns\n",
        "# for i in df.columns[:2]:\n",
        "#   print(df[i])\n",
        "\n",
        "df[df.columns[:2]]"
      ],
      "metadata": {
        "id": "7TjjqnLqMRRO"
      },
      "execution_count": null,
      "outputs": []
    },
    {
      "cell_type": "code",
      "source": [
        "df[(df['housing_median_age']<20)&(df['median_house_value']>7000)]"
      ],
      "metadata": {
        "colab": {
          "base_uri": "https://localhost:8080/",
          "height": 488
        },
        "id": "riTzz-YwN3VP",
        "outputId": "1a3f0333-d086-4c91-bae1-af9c8a570954"
      },
      "execution_count": 16,
      "outputs": [
        {
          "output_type": "execute_result",
          "data": {
            "text/plain": [
              "      longitude  latitude  housing_median_age  total_rooms  total_bedrooms  \\\n",
              "4       -119.67     36.33                19.0       1241.0           244.0   \n",
              "7       -120.65     35.48                19.0       2310.0           471.0   \n",
              "8       -122.84     38.40                15.0       3080.0           617.0   \n",
              "13      -117.03     32.97                16.0       3936.0           694.0   \n",
              "16      -120.81     37.53                15.0        570.0           123.0   \n",
              "...         ...       ...                 ...          ...             ...   \n",
              "2981    -120.66     35.49                17.0       4422.0           945.0   \n",
              "2984    -117.59     33.88                13.0       3239.0           849.0   \n",
              "2985    -120.47     34.94                17.0       1368.0           308.0   \n",
              "2991    -117.17     34.28                13.0       4867.0           718.0   \n",
              "2997    -119.70     36.30                10.0        956.0           201.0   \n",
              "\n",
              "      population  households  median_income  median_house_value  \n",
              "4          850.0       237.0         2.9375             81700.0  \n",
              "7         1341.0       441.0         3.2250            166900.0  \n",
              "8         1446.0       599.0         3.6696            194400.0  \n",
              "13        1935.0       659.0         4.5625            231200.0  \n",
              "16         189.0       107.0         1.8750            181300.0  \n",
              "...          ...         ...            ...                 ...  \n",
              "2981      2307.0       885.0         2.8285            171300.0  \n",
              "2984      2751.0       813.0         2.6111            107000.0  \n",
              "2985       642.0       303.0         1.8633            109400.0  \n",
              "2991       780.0       250.0         7.1997            253800.0  \n",
              "2997       693.0       220.0         2.2895             62000.0  \n",
              "\n",
              "[830 rows x 9 columns]"
            ],
            "text/html": [
              "\n",
              "  <div id=\"df-9ca56885-806a-4ea1-8c0d-7163dfd21b8e\">\n",
              "    <div class=\"colab-df-container\">\n",
              "      <div>\n",
              "<style scoped>\n",
              "    .dataframe tbody tr th:only-of-type {\n",
              "        vertical-align: middle;\n",
              "    }\n",
              "\n",
              "    .dataframe tbody tr th {\n",
              "        vertical-align: top;\n",
              "    }\n",
              "\n",
              "    .dataframe thead th {\n",
              "        text-align: right;\n",
              "    }\n",
              "</style>\n",
              "<table border=\"1\" class=\"dataframe\">\n",
              "  <thead>\n",
              "    <tr style=\"text-align: right;\">\n",
              "      <th></th>\n",
              "      <th>longitude</th>\n",
              "      <th>latitude</th>\n",
              "      <th>housing_median_age</th>\n",
              "      <th>total_rooms</th>\n",
              "      <th>total_bedrooms</th>\n",
              "      <th>population</th>\n",
              "      <th>households</th>\n",
              "      <th>median_income</th>\n",
              "      <th>median_house_value</th>\n",
              "    </tr>\n",
              "  </thead>\n",
              "  <tbody>\n",
              "    <tr>\n",
              "      <th>4</th>\n",
              "      <td>-119.67</td>\n",
              "      <td>36.33</td>\n",
              "      <td>19.0</td>\n",
              "      <td>1241.0</td>\n",
              "      <td>244.0</td>\n",
              "      <td>850.0</td>\n",
              "      <td>237.0</td>\n",
              "      <td>2.9375</td>\n",
              "      <td>81700.0</td>\n",
              "    </tr>\n",
              "    <tr>\n",
              "      <th>7</th>\n",
              "      <td>-120.65</td>\n",
              "      <td>35.48</td>\n",
              "      <td>19.0</td>\n",
              "      <td>2310.0</td>\n",
              "      <td>471.0</td>\n",
              "      <td>1341.0</td>\n",
              "      <td>441.0</td>\n",
              "      <td>3.2250</td>\n",
              "      <td>166900.0</td>\n",
              "    </tr>\n",
              "    <tr>\n",
              "      <th>8</th>\n",
              "      <td>-122.84</td>\n",
              "      <td>38.40</td>\n",
              "      <td>15.0</td>\n",
              "      <td>3080.0</td>\n",
              "      <td>617.0</td>\n",
              "      <td>1446.0</td>\n",
              "      <td>599.0</td>\n",
              "      <td>3.6696</td>\n",
              "      <td>194400.0</td>\n",
              "    </tr>\n",
              "    <tr>\n",
              "      <th>13</th>\n",
              "      <td>-117.03</td>\n",
              "      <td>32.97</td>\n",
              "      <td>16.0</td>\n",
              "      <td>3936.0</td>\n",
              "      <td>694.0</td>\n",
              "      <td>1935.0</td>\n",
              "      <td>659.0</td>\n",
              "      <td>4.5625</td>\n",
              "      <td>231200.0</td>\n",
              "    </tr>\n",
              "    <tr>\n",
              "      <th>16</th>\n",
              "      <td>-120.81</td>\n",
              "      <td>37.53</td>\n",
              "      <td>15.0</td>\n",
              "      <td>570.0</td>\n",
              "      <td>123.0</td>\n",
              "      <td>189.0</td>\n",
              "      <td>107.0</td>\n",
              "      <td>1.8750</td>\n",
              "      <td>181300.0</td>\n",
              "    </tr>\n",
              "    <tr>\n",
              "      <th>...</th>\n",
              "      <td>...</td>\n",
              "      <td>...</td>\n",
              "      <td>...</td>\n",
              "      <td>...</td>\n",
              "      <td>...</td>\n",
              "      <td>...</td>\n",
              "      <td>...</td>\n",
              "      <td>...</td>\n",
              "      <td>...</td>\n",
              "    </tr>\n",
              "    <tr>\n",
              "      <th>2981</th>\n",
              "      <td>-120.66</td>\n",
              "      <td>35.49</td>\n",
              "      <td>17.0</td>\n",
              "      <td>4422.0</td>\n",
              "      <td>945.0</td>\n",
              "      <td>2307.0</td>\n",
              "      <td>885.0</td>\n",
              "      <td>2.8285</td>\n",
              "      <td>171300.0</td>\n",
              "    </tr>\n",
              "    <tr>\n",
              "      <th>2984</th>\n",
              "      <td>-117.59</td>\n",
              "      <td>33.88</td>\n",
              "      <td>13.0</td>\n",
              "      <td>3239.0</td>\n",
              "      <td>849.0</td>\n",
              "      <td>2751.0</td>\n",
              "      <td>813.0</td>\n",
              "      <td>2.6111</td>\n",
              "      <td>107000.0</td>\n",
              "    </tr>\n",
              "    <tr>\n",
              "      <th>2985</th>\n",
              "      <td>-120.47</td>\n",
              "      <td>34.94</td>\n",
              "      <td>17.0</td>\n",
              "      <td>1368.0</td>\n",
              "      <td>308.0</td>\n",
              "      <td>642.0</td>\n",
              "      <td>303.0</td>\n",
              "      <td>1.8633</td>\n",
              "      <td>109400.0</td>\n",
              "    </tr>\n",
              "    <tr>\n",
              "      <th>2991</th>\n",
              "      <td>-117.17</td>\n",
              "      <td>34.28</td>\n",
              "      <td>13.0</td>\n",
              "      <td>4867.0</td>\n",
              "      <td>718.0</td>\n",
              "      <td>780.0</td>\n",
              "      <td>250.0</td>\n",
              "      <td>7.1997</td>\n",
              "      <td>253800.0</td>\n",
              "    </tr>\n",
              "    <tr>\n",
              "      <th>2997</th>\n",
              "      <td>-119.70</td>\n",
              "      <td>36.30</td>\n",
              "      <td>10.0</td>\n",
              "      <td>956.0</td>\n",
              "      <td>201.0</td>\n",
              "      <td>693.0</td>\n",
              "      <td>220.0</td>\n",
              "      <td>2.2895</td>\n",
              "      <td>62000.0</td>\n",
              "    </tr>\n",
              "  </tbody>\n",
              "</table>\n",
              "<p>830 rows × 9 columns</p>\n",
              "</div>\n",
              "      <button class=\"colab-df-convert\" onclick=\"convertToInteractive('df-9ca56885-806a-4ea1-8c0d-7163dfd21b8e')\"\n",
              "              title=\"Convert this dataframe to an interactive table.\"\n",
              "              style=\"display:none;\">\n",
              "        \n",
              "  <svg xmlns=\"http://www.w3.org/2000/svg\" height=\"24px\"viewBox=\"0 0 24 24\"\n",
              "       width=\"24px\">\n",
              "    <path d=\"M0 0h24v24H0V0z\" fill=\"none\"/>\n",
              "    <path d=\"M18.56 5.44l.94 2.06.94-2.06 2.06-.94-2.06-.94-.94-2.06-.94 2.06-2.06.94zm-11 1L8.5 8.5l.94-2.06 2.06-.94-2.06-.94L8.5 2.5l-.94 2.06-2.06.94zm10 10l.94 2.06.94-2.06 2.06-.94-2.06-.94-.94-2.06-.94 2.06-2.06.94z\"/><path d=\"M17.41 7.96l-1.37-1.37c-.4-.4-.92-.59-1.43-.59-.52 0-1.04.2-1.43.59L10.3 9.45l-7.72 7.72c-.78.78-.78 2.05 0 2.83L4 21.41c.39.39.9.59 1.41.59.51 0 1.02-.2 1.41-.59l7.78-7.78 2.81-2.81c.8-.78.8-2.07 0-2.86zM5.41 20L4 18.59l7.72-7.72 1.47 1.35L5.41 20z\"/>\n",
              "  </svg>\n",
              "      </button>\n",
              "      \n",
              "  <style>\n",
              "    .colab-df-container {\n",
              "      display:flex;\n",
              "      flex-wrap:wrap;\n",
              "      gap: 12px;\n",
              "    }\n",
              "\n",
              "    .colab-df-convert {\n",
              "      background-color: #E8F0FE;\n",
              "      border: none;\n",
              "      border-radius: 50%;\n",
              "      cursor: pointer;\n",
              "      display: none;\n",
              "      fill: #1967D2;\n",
              "      height: 32px;\n",
              "      padding: 0 0 0 0;\n",
              "      width: 32px;\n",
              "    }\n",
              "\n",
              "    .colab-df-convert:hover {\n",
              "      background-color: #E2EBFA;\n",
              "      box-shadow: 0px 1px 2px rgba(60, 64, 67, 0.3), 0px 1px 3px 1px rgba(60, 64, 67, 0.15);\n",
              "      fill: #174EA6;\n",
              "    }\n",
              "\n",
              "    [theme=dark] .colab-df-convert {\n",
              "      background-color: #3B4455;\n",
              "      fill: #D2E3FC;\n",
              "    }\n",
              "\n",
              "    [theme=dark] .colab-df-convert:hover {\n",
              "      background-color: #434B5C;\n",
              "      box-shadow: 0px 1px 3px 1px rgba(0, 0, 0, 0.15);\n",
              "      filter: drop-shadow(0px 1px 2px rgba(0, 0, 0, 0.3));\n",
              "      fill: #FFFFFF;\n",
              "    }\n",
              "  </style>\n",
              "\n",
              "      <script>\n",
              "        const buttonEl =\n",
              "          document.querySelector('#df-9ca56885-806a-4ea1-8c0d-7163dfd21b8e button.colab-df-convert');\n",
              "        buttonEl.style.display =\n",
              "          google.colab.kernel.accessAllowed ? 'block' : 'none';\n",
              "\n",
              "        async function convertToInteractive(key) {\n",
              "          const element = document.querySelector('#df-9ca56885-806a-4ea1-8c0d-7163dfd21b8e');\n",
              "          const dataTable =\n",
              "            await google.colab.kernel.invokeFunction('convertToInteractive',\n",
              "                                                     [key], {});\n",
              "          if (!dataTable) return;\n",
              "\n",
              "          const docLinkHtml = 'Like what you see? Visit the ' +\n",
              "            '<a target=\"_blank\" href=https://colab.research.google.com/notebooks/data_table.ipynb>data table notebook</a>'\n",
              "            + ' to learn more about interactive tables.';\n",
              "          element.innerHTML = '';\n",
              "          dataTable['output_type'] = 'display_data';\n",
              "          await google.colab.output.renderOutput(dataTable, element);\n",
              "          const docLink = document.createElement('div');\n",
              "          docLink.innerHTML = docLinkHtml;\n",
              "          element.appendChild(docLink);\n",
              "        }\n",
              "      </script>\n",
              "    </div>\n",
              "  </div>\n",
              "  "
            ]
          },
          "metadata": {},
          "execution_count": 16
        }
      ]
    },
    {
      "cell_type": "markdown",
      "source": [
        "Определить какое максимальное и минимальное значение median_house_value\n",
        "\n",
        "Показать максимальное median_house_value, где median_income = 3.1250\n",
        "\n",
        "\n",
        "Узнать какая максимальная population в зоне минимального значения median_house_value"
      ],
      "metadata": {
        "id": "Ul09MXb8Oqqc"
      }
    },
    {
      "cell_type": "code",
      "source": [
        "df['median_house_value'].max()"
      ],
      "metadata": {
        "colab": {
          "base_uri": "https://localhost:8080/"
        },
        "id": "FSFvlc0MOxcF",
        "outputId": "5278b664-28a7-46c6-c3bb-2be2e4143d27"
      },
      "execution_count": 17,
      "outputs": [
        {
          "output_type": "execute_result",
          "data": {
            "text/plain": [
              "500001.0"
            ]
          },
          "metadata": {},
          "execution_count": 17
        }
      ]
    },
    {
      "cell_type": "code",
      "source": [
        "df[df.median_income == 3.1250]['median_house_value'].max()"
      ],
      "metadata": {
        "colab": {
          "base_uri": "https://localhost:8080/"
        },
        "id": "mBLzyA9nPP3Y",
        "outputId": "3d98562a-11e4-451a-b834-85e5741d5a79"
      },
      "execution_count": 20,
      "outputs": [
        {
          "output_type": "execute_result",
          "data": {
            "text/plain": [
              "233300.0"
            ]
          },
          "metadata": {},
          "execution_count": 20
        }
      ]
    },
    {
      "cell_type": "code",
      "source": [
        "df[df.median_house_value == df['median_house_value'].min()]['population'].max()"
      ],
      "metadata": {
        "colab": {
          "base_uri": "https://localhost:8080/"
        },
        "id": "dnmFOuaQQOt4",
        "outputId": "83694003-20f7-4870-d45e-6bd2fc010cb6"
      },
      "execution_count": 21,
      "outputs": [
        {
          "output_type": "execute_result",
          "data": {
            "text/plain": [
              "1230.0"
            ]
          },
          "metadata": {},
          "execution_count": 21
        }
      ]
    },
    {
      "cell_type": "markdown",
      "source": [
        "Задача 40: Работать с файлом california_housing_train.csv, который находится в папке sample_data. Определить среднюю стоимость дома, где кол-во людей от 0 до 500 (population).\n",
        "\n",
        "Задача 42: Узнать какая максимальная households в зоне минимального значения population.\n"
      ],
      "metadata": {
        "id": "e_n-Cmd7T-DB"
      }
    },
    {
      "cell_type": "code",
      "source": [
        "hw = pd.read_csv('/content/sample_data/california_housing_train.csv')"
      ],
      "metadata": {
        "id": "HCjiML-jTXab"
      },
      "execution_count": 22,
      "outputs": []
    },
    {
      "cell_type": "code",
      "source": [
        "hw.shape"
      ],
      "metadata": {
        "colab": {
          "base_uri": "https://localhost:8080/"
        },
        "id": "G49BuKmfTpi6",
        "outputId": "6231279a-3685-44a6-e9bf-8f194036e56d"
      },
      "execution_count": 23,
      "outputs": [
        {
          "output_type": "execute_result",
          "data": {
            "text/plain": [
              "(17000, 9)"
            ]
          },
          "metadata": {},
          "execution_count": 23
        }
      ]
    },
    {
      "cell_type": "code",
      "source": [
        "hw.isnull().sum()"
      ],
      "metadata": {
        "colab": {
          "base_uri": "https://localhost:8080/"
        },
        "id": "SyyAqHAAUQz5",
        "outputId": "7fe5fff9-e5d5-4db3-f3da-4fa24b502514"
      },
      "execution_count": 24,
      "outputs": [
        {
          "output_type": "execute_result",
          "data": {
            "text/plain": [
              "longitude             0\n",
              "latitude              0\n",
              "housing_median_age    0\n",
              "total_rooms           0\n",
              "total_bedrooms        0\n",
              "population            0\n",
              "households            0\n",
              "median_income         0\n",
              "median_house_value    0\n",
              "dtype: int64"
            ]
          },
          "metadata": {},
          "execution_count": 24
        }
      ]
    },
    {
      "cell_type": "code",
      "source": [
        "#Task 40  Определить среднюю стоимость дома, где кол-во людей от 0 до 500 (population).\n",
        "\n",
        "hw[(hw['population'] >= 0)&(hw['population'] <= 500)]['median_house_value'].mean()\n"
      ],
      "metadata": {
        "colab": {
          "base_uri": "https://localhost:8080/"
        },
        "id": "KmLujACMU0ou",
        "outputId": "fcf2b9e1-5f04-4588-bc56-a9f3ce439b7b"
      },
      "execution_count": 50,
      "outputs": [
        {
          "output_type": "execute_result",
          "data": {
            "text/plain": [
              "206799.95140186916"
            ]
          },
          "metadata": {},
          "execution_count": 50
        }
      ]
    },
    {
      "cell_type": "code",
      "source": [
        "#Task 42 Узнать какая максимальная households в зоне минимального значения population.\n",
        "\n",
        "hw[hw.population <= hw['population'].median()]['households'].max()\n"
      ],
      "metadata": {
        "colab": {
          "base_uri": "https://localhost:8080/"
        },
        "id": "DBQ3CuuGZTFj",
        "outputId": "32b97cb6-e94a-4674-c5a0-f597e391233b"
      },
      "execution_count": 48,
      "outputs": [
        {
          "output_type": "execute_result",
          "data": {
            "text/plain": [
              "997.0"
            ]
          },
          "metadata": {},
          "execution_count": 48
        }
      ]
    }
  ]
}